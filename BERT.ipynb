{
 "cells": [
  {
   "cell_type": "code",
   "execution_count": 1,
   "id": "22f7b5a7",
   "metadata": {
    "ExecuteTime": {
     "end_time": "2022-04-21T12:30:35.418776Z",
     "start_time": "2022-04-21T12:30:28.358273Z"
    }
   },
   "outputs": [
    {
     "name": "stdout",
     "output_type": "stream",
     "text": [
      "Looking in links: https://download.pytorch.org/whl/torch_stable.html\n",
      "Requirement already satisfied: torch==1.8.1+cu111 in c:\\users\\rani\\anaconda3\\lib\\site-packages (1.8.1+cu111)\n",
      "Requirement already satisfied: torchvision==0.9.1+cu111 in c:\\users\\rani\\anaconda3\\lib\\site-packages (0.9.1+cu111)\n",
      "Requirement already satisfied: torchaudio===0.8.1 in c:\\users\\rani\\anaconda3\\lib\\site-packages (0.8.1)\n",
      "Requirement already satisfied: typing-extensions in c:\\users\\rani\\anaconda3\\lib\\site-packages (from torch==1.8.1+cu111) (3.10.0.2)\n",
      "Requirement already satisfied: numpy in c:\\users\\rani\\anaconda3\\lib\\site-packages (from torch==1.8.1+cu111) (1.20.3)\n",
      "Requirement already satisfied: pillow>=4.1.1 in c:\\users\\rani\\anaconda3\\lib\\site-packages (from torchvision==0.9.1+cu111) (8.4.0)\n"
     ]
    }
   ],
   "source": [
    "!pip install torch==1.8.1+cu111 torchvision==0.9.1+cu111 torchaudio===0.8.1 -f https://download.pytorch.org/whl/torch_stable.html"
   ]
  },
  {
   "cell_type": "code",
   "execution_count": 2,
   "id": "c2f4d4d8",
   "metadata": {
    "ExecuteTime": {
     "end_time": "2022-04-21T12:30:38.788106Z",
     "start_time": "2022-04-21T12:30:35.420772Z"
    }
   },
   "outputs": [
    {
     "name": "stdout",
     "output_type": "stream",
     "text": [
      "Requirement already satisfied: transformers in c:\\users\\rani\\anaconda3\\lib\\site-packages (4.18.0)\n",
      "Requirement already satisfied: requests in c:\\users\\rani\\anaconda3\\lib\\site-packages (2.26.0)\n",
      "Requirement already satisfied: beautifulsoup4 in c:\\users\\rani\\anaconda3\\lib\\site-packages (4.10.0)\n",
      "Requirement already satisfied: pandas in c:\\users\\rani\\anaconda3\\lib\\site-packages (1.3.4)\n",
      "Requirement already satisfied: numpy in c:\\users\\rani\\anaconda3\\lib\\site-packages (1.20.3)\n",
      "Requirement already satisfied: packaging>=20.0 in c:\\users\\rani\\anaconda3\\lib\\site-packages (from transformers) (21.0)\n",
      "Requirement already satisfied: huggingface-hub<1.0,>=0.1.0 in c:\\users\\rani\\anaconda3\\lib\\site-packages (from transformers) (0.5.1)\n",
      "Requirement already satisfied: tokenizers!=0.11.3,<0.13,>=0.11.1 in c:\\users\\rani\\anaconda3\\lib\\site-packages (from transformers) (0.12.1)\n",
      "Requirement already satisfied: filelock in c:\\users\\rani\\anaconda3\\lib\\site-packages (from transformers) (3.3.1)\n",
      "Requirement already satisfied: tqdm>=4.27 in c:\\users\\rani\\anaconda3\\lib\\site-packages (from transformers) (4.62.3)\n",
      "Requirement already satisfied: pyyaml>=5.1 in c:\\users\\rani\\anaconda3\\lib\\site-packages (from transformers) (6.0)\n",
      "Requirement already satisfied: regex!=2019.12.17 in c:\\users\\rani\\anaconda3\\lib\\site-packages (from transformers) (2021.8.3)\n",
      "Requirement already satisfied: sacremoses in c:\\users\\rani\\anaconda3\\lib\\site-packages (from transformers) (0.0.49)\n",
      "Requirement already satisfied: idna<4,>=2.5 in c:\\users\\rani\\anaconda3\\lib\\site-packages (from requests) (3.2)\n",
      "Requirement already satisfied: certifi>=2017.4.17 in c:\\users\\rani\\anaconda3\\lib\\site-packages (from requests) (2021.10.8)\n",
      "Requirement already satisfied: urllib3<1.27,>=1.21.1 in c:\\users\\rani\\anaconda3\\lib\\site-packages (from requests) (1.26.7)\n",
      "Requirement already satisfied: charset-normalizer~=2.0.0 in c:\\users\\rani\\anaconda3\\lib\\site-packages (from requests) (2.0.4)\n",
      "Requirement already satisfied: soupsieve>1.2 in c:\\users\\rani\\anaconda3\\lib\\site-packages (from beautifulsoup4) (2.2.1)\n",
      "Requirement already satisfied: python-dateutil>=2.7.3 in c:\\users\\rani\\anaconda3\\lib\\site-packages (from pandas) (2.8.2)\n",
      "Requirement already satisfied: pytz>=2017.3 in c:\\users\\rani\\anaconda3\\lib\\site-packages (from pandas) (2021.3)\n",
      "Requirement already satisfied: typing-extensions>=3.7.4.3 in c:\\users\\rani\\anaconda3\\lib\\site-packages (from huggingface-hub<1.0,>=0.1.0->transformers) (3.10.0.2)\n",
      "Requirement already satisfied: pyparsing>=2.0.2 in c:\\users\\rani\\anaconda3\\lib\\site-packages (from packaging>=20.0->transformers) (3.0.4)\n",
      "Requirement already satisfied: six>=1.5 in c:\\users\\rani\\anaconda3\\lib\\site-packages (from python-dateutil>=2.7.3->pandas) (1.16.0)\n",
      "Requirement already satisfied: colorama in c:\\users\\rani\\anaconda3\\lib\\site-packages (from tqdm>=4.27->transformers) (0.4.4)\n",
      "Requirement already satisfied: joblib in c:\\users\\rani\\anaconda3\\lib\\site-packages (from sacremoses->transformers) (1.1.0)\n",
      "Requirement already satisfied: click in c:\\users\\rani\\anaconda3\\lib\\site-packages (from sacremoses->transformers) (8.0.3)\n"
     ]
    }
   ],
   "source": [
    "!pip install transformers requests beautifulsoup4 pandas numpy"
   ]
  },
  {
   "cell_type": "code",
   "execution_count": 3,
   "id": "73d389dd",
   "metadata": {
    "ExecuteTime": {
     "end_time": "2022-04-21T12:31:11.431962Z",
     "start_time": "2022-04-21T12:30:38.791102Z"
    }
   },
   "outputs": [],
   "source": [
    "from transformers import AutoTokenizer, AutoModelForSequenceClassification\n",
    "import torch\n",
    "import requests\n",
    "from bs4 import BeautifulSoup\n",
    "import re"
   ]
  },
  {
   "cell_type": "code",
   "execution_count": 4,
   "id": "91d62c84",
   "metadata": {
    "ExecuteTime": {
     "end_time": "2022-04-21T12:31:30.809677Z",
     "start_time": "2022-04-21T12:31:11.442091Z"
    }
   },
   "outputs": [],
   "source": [
    "tokenizer = AutoTokenizer.from_pretrained('nlptown/bert-base-multilingual-uncased-sentiment')\n",
    "\n",
    "model = AutoModelForSequenceClassification.from_pretrained('nlptown/bert-base-multilingual-uncased-sentiment')"
   ]
  },
  {
   "cell_type": "code",
   "execution_count": 5,
   "id": "83b8e216",
   "metadata": {
    "ExecuteTime": {
     "end_time": "2022-04-21T12:31:30.852793Z",
     "start_time": "2022-04-21T12:31:30.809677Z"
    }
   },
   "outputs": [],
   "source": [
    "tokens = tokenizer.encode(\"it's super\",return_tensors='pt')"
   ]
  },
  {
   "cell_type": "code",
   "execution_count": 6,
   "id": "c976e0ca",
   "metadata": {
    "ExecuteTime": {
     "end_time": "2022-04-21T12:31:31.062145Z",
     "start_time": "2022-04-21T12:31:30.858310Z"
    }
   },
   "outputs": [],
   "source": [
    "result=model(tokens)"
   ]
  },
  {
   "cell_type": "code",
   "execution_count": 7,
   "id": "4119178d",
   "metadata": {
    "ExecuteTime": {
     "end_time": "2022-04-21T12:31:31.109775Z",
     "start_time": "2022-04-21T12:31:31.062145Z"
    }
   },
   "outputs": [
    {
     "data": {
      "text/plain": [
       "5"
      ]
     },
     "execution_count": 7,
     "metadata": {},
     "output_type": "execute_result"
    }
   ],
   "source": [
    "int(torch.argmax(result.logits))+1"
   ]
  },
  {
   "cell_type": "code",
   "execution_count": 8,
   "id": "eabec632",
   "metadata": {
    "ExecuteTime": {
     "end_time": "2022-04-21T12:31:31.125733Z",
     "start_time": "2022-04-21T12:31:31.112767Z"
    }
   },
   "outputs": [],
   "source": [
    "import pandas as pd \n",
    "import numpy as np"
   ]
  },
  {
   "cell_type": "code",
   "execution_count": 9,
   "id": "d295058f",
   "metadata": {
    "ExecuteTime": {
     "end_time": "2022-04-21T12:31:31.264506Z",
     "start_time": "2022-04-21T12:31:31.127728Z"
    }
   },
   "outputs": [
    {
     "data": {
      "text/html": [
       "<div>\n",
       "<style scoped>\n",
       "    .dataframe tbody tr th:only-of-type {\n",
       "        vertical-align: middle;\n",
       "    }\n",
       "\n",
       "    .dataframe tbody tr th {\n",
       "        vertical-align: top;\n",
       "    }\n",
       "\n",
       "    .dataframe thead th {\n",
       "        text-align: right;\n",
       "    }\n",
       "</style>\n",
       "<table border=\"1\" class=\"dataframe\">\n",
       "  <thead>\n",
       "    <tr style=\"text-align: right;\">\n",
       "      <th></th>\n",
       "      <th>Unnamed: 0</th>\n",
       "      <th>ratings</th>\n",
       "      <th>reviews</th>\n",
       "    </tr>\n",
       "  </thead>\n",
       "  <tbody>\n",
       "    <tr>\n",
       "      <th>0</th>\n",
       "      <td>0</td>\n",
       "      <td>2</td>\n",
       "      <td>Ok the DSLR Giant Canon have launched 1 more...</td>\n",
       "    </tr>\n",
       "    <tr>\n",
       "      <th>1</th>\n",
       "      <td>1</td>\n",
       "      <td>5</td>\n",
       "      <td>Good camera for beginners.</td>\n",
       "    </tr>\n",
       "    <tr>\n",
       "      <th>2</th>\n",
       "      <td>2</td>\n",
       "      <td>5</td>\n",
       "      <td>Great camera. Perfect product for young budd...</td>\n",
       "    </tr>\n",
       "    <tr>\n",
       "      <th>3</th>\n",
       "      <td>3</td>\n",
       "      <td>5</td>\n",
       "      <td>Really impressed with Amazon surprise for de...</td>\n",
       "    </tr>\n",
       "    <tr>\n",
       "      <th>4</th>\n",
       "      <td>4</td>\n",
       "      <td>1</td>\n",
       "      <td>You are on your own if you buy this product ...</td>\n",
       "    </tr>\n",
       "    <tr>\n",
       "      <th>...</th>\n",
       "      <td>...</td>\n",
       "      <td>...</td>\n",
       "      <td>...</td>\n",
       "    </tr>\n",
       "    <tr>\n",
       "      <th>1304</th>\n",
       "      <td>1304</td>\n",
       "      <td>4</td>\n",
       "      <td>Gud camera for beginners</td>\n",
       "    </tr>\n",
       "    <tr>\n",
       "      <th>1305</th>\n",
       "      <td>1305</td>\n",
       "      <td>5</td>\n",
       "      <td>Best for all</td>\n",
       "    </tr>\n",
       "    <tr>\n",
       "      <th>1306</th>\n",
       "      <td>1306</td>\n",
       "      <td>4</td>\n",
       "      <td>Camera is good</td>\n",
       "    </tr>\n",
       "    <tr>\n",
       "      <th>1307</th>\n",
       "      <td>1307</td>\n",
       "      <td>5</td>\n",
       "      <td>That cemara flash not connecting</td>\n",
       "    </tr>\n",
       "    <tr>\n",
       "      <th>1308</th>\n",
       "      <td>1308</td>\n",
       "      <td>5</td>\n",
       "      <td>Excellent for beginners and quality for price</td>\n",
       "    </tr>\n",
       "  </tbody>\n",
       "</table>\n",
       "<p>1309 rows × 3 columns</p>\n",
       "</div>"
      ],
      "text/plain": [
       "      Unnamed: 0  ratings                                            reviews\n",
       "0              0        2    Ok the DSLR Giant Canon have launched 1 more...\n",
       "1              1        5                         Good camera for beginners.\n",
       "2              2        5    Great camera. Perfect product for young budd...\n",
       "3              3        5    Really impressed with Amazon surprise for de...\n",
       "4              4        1    You are on your own if you buy this product ...\n",
       "...          ...      ...                                                ...\n",
       "1304        1304        4                           Gud camera for beginners\n",
       "1305        1305        5                                       Best for all\n",
       "1306        1306        4                                     Camera is good\n",
       "1307        1307        5                   That cemara flash not connecting\n",
       "1308        1308        5      Excellent for beginners and quality for price\n",
       "\n",
       "[1309 rows x 3 columns]"
      ]
     },
     "execution_count": 9,
     "metadata": {},
     "output_type": "execute_result"
    }
   ],
   "source": [
    "df = pd.read_csv('amazonreviews.csv')\n",
    "df"
   ]
  },
  {
   "cell_type": "code",
   "execution_count": 10,
   "id": "90d0bdae",
   "metadata": {
    "ExecuteTime": {
     "end_time": "2022-04-21T12:31:31.296517Z",
     "start_time": "2022-04-21T12:31:31.270845Z"
    }
   },
   "outputs": [],
   "source": [
    "df.drop('Unnamed: 0',axis=1,inplace=True)"
   ]
  },
  {
   "cell_type": "code",
   "execution_count": 11,
   "id": "2e56ddcf",
   "metadata": {
    "ExecuteTime": {
     "end_time": "2022-04-21T12:31:31.328022Z",
     "start_time": "2022-04-21T12:31:31.299537Z"
    }
   },
   "outputs": [
    {
     "data": {
      "text/html": [
       "<div>\n",
       "<style scoped>\n",
       "    .dataframe tbody tr th:only-of-type {\n",
       "        vertical-align: middle;\n",
       "    }\n",
       "\n",
       "    .dataframe tbody tr th {\n",
       "        vertical-align: top;\n",
       "    }\n",
       "\n",
       "    .dataframe thead th {\n",
       "        text-align: right;\n",
       "    }\n",
       "</style>\n",
       "<table border=\"1\" class=\"dataframe\">\n",
       "  <thead>\n",
       "    <tr style=\"text-align: right;\">\n",
       "      <th></th>\n",
       "      <th>ratings</th>\n",
       "      <th>reviews</th>\n",
       "    </tr>\n",
       "  </thead>\n",
       "  <tbody>\n",
       "    <tr>\n",
       "      <th>0</th>\n",
       "      <td>2</td>\n",
       "      <td>Ok the DSLR Giant Canon have launched 1 more...</td>\n",
       "    </tr>\n",
       "    <tr>\n",
       "      <th>1</th>\n",
       "      <td>5</td>\n",
       "      <td>Good camera for beginners.</td>\n",
       "    </tr>\n",
       "    <tr>\n",
       "      <th>2</th>\n",
       "      <td>5</td>\n",
       "      <td>Great camera. Perfect product for young budd...</td>\n",
       "    </tr>\n",
       "    <tr>\n",
       "      <th>3</th>\n",
       "      <td>5</td>\n",
       "      <td>Really impressed with Amazon surprise for de...</td>\n",
       "    </tr>\n",
       "    <tr>\n",
       "      <th>4</th>\n",
       "      <td>1</td>\n",
       "      <td>You are on your own if you buy this product ...</td>\n",
       "    </tr>\n",
       "    <tr>\n",
       "      <th>...</th>\n",
       "      <td>...</td>\n",
       "      <td>...</td>\n",
       "    </tr>\n",
       "    <tr>\n",
       "      <th>1304</th>\n",
       "      <td>4</td>\n",
       "      <td>Gud camera for beginners</td>\n",
       "    </tr>\n",
       "    <tr>\n",
       "      <th>1305</th>\n",
       "      <td>5</td>\n",
       "      <td>Best for all</td>\n",
       "    </tr>\n",
       "    <tr>\n",
       "      <th>1306</th>\n",
       "      <td>4</td>\n",
       "      <td>Camera is good</td>\n",
       "    </tr>\n",
       "    <tr>\n",
       "      <th>1307</th>\n",
       "      <td>5</td>\n",
       "      <td>That cemara flash not connecting</td>\n",
       "    </tr>\n",
       "    <tr>\n",
       "      <th>1308</th>\n",
       "      <td>5</td>\n",
       "      <td>Excellent for beginners and quality for price</td>\n",
       "    </tr>\n",
       "  </tbody>\n",
       "</table>\n",
       "<p>1309 rows × 2 columns</p>\n",
       "</div>"
      ],
      "text/plain": [
       "      ratings                                            reviews\n",
       "0           2    Ok the DSLR Giant Canon have launched 1 more...\n",
       "1           5                         Good camera for beginners.\n",
       "2           5    Great camera. Perfect product for young budd...\n",
       "3           5    Really impressed with Amazon surprise for de...\n",
       "4           1    You are on your own if you buy this product ...\n",
       "...       ...                                                ...\n",
       "1304        4                           Gud camera for beginners\n",
       "1305        5                                       Best for all\n",
       "1306        4                                     Camera is good\n",
       "1307        5                   That cemara flash not connecting\n",
       "1308        5      Excellent for beginners and quality for price\n",
       "\n",
       "[1309 rows x 2 columns]"
      ]
     },
     "execution_count": 11,
     "metadata": {},
     "output_type": "execute_result"
    }
   ],
   "source": [
    "df"
   ]
  },
  {
   "cell_type": "code",
   "execution_count": 12,
   "id": "cc8960e5",
   "metadata": {
    "ExecuteTime": {
     "end_time": "2022-04-21T12:31:31.343463Z",
     "start_time": "2022-04-21T12:31:31.331628Z"
    }
   },
   "outputs": [
    {
     "data": {
      "text/plain": [
       "\"  Ok the DSLR Giant Canon have launched 1 more entry level DSLR. Actually i bought this camera for my friend. Does this camera worth 31K. Lets seePROS1.  Its easy to use2. Decent battery backup3. Live mode operation is not lagging.CONS1. While focusing the DSLR is making too much noise and its the kind of annoying that u will lose interest in taking photos.2. No shortcut or assigned button to change F stop (aperture). A manufacturer who is keeping dedicated button for changing the ISO have to thing about the importance of aperture.3. You can't change the focusing point by pressing the round dial in the system, if u press it some other setup will open up.4. The output image quality is actually not mind blowing.5. White balance- Use it if u want to take risk6. Main issue. If u use camera flash to snap a pic during focusing it will flicker like anything and it will annoy and irritate the subject7. Noise Noise Noise. Whatever low ISO you use noise will b there and when i went to service center to ask about this they were saying use a prime lens to get good output.I am a Nikon user i have Nikon D3400. I compared both cameras by taking same images with same settings in manual mode. The output from Nikon is better than Canon 1500D.In one word if want to push photography to next level from using a Point and Shoot or mobile camera to DSLR Or to learn the whole DSLR setting go for it (only with a mindset to change the camera in 1 or 2 years). As canon accessories are comparatively less costly than Nikon it wont create hole in ur pocket.I am not biased towards Nikon, i wrote wat i felt.Its not worth for money\""
      ]
     },
     "execution_count": 12,
     "metadata": {},
     "output_type": "execute_result"
    }
   ],
   "source": [
    "df['reviews'].iloc[0]"
   ]
  },
  {
   "cell_type": "code",
   "execution_count": 13,
   "id": "5b2c3d1f",
   "metadata": {
    "ExecuteTime": {
     "end_time": "2022-04-21T12:31:31.382866Z",
     "start_time": "2022-04-21T12:31:31.348607Z"
    }
   },
   "outputs": [],
   "source": [
    "def sentiment_score(reviews):\n",
    "    tokens = tokenizer.encode(reviews, return_tensors='pt')\n",
    "    result = model(tokens)\n",
    "    return int(torch.argmax(result.logits))+1"
   ]
  },
  {
   "cell_type": "code",
   "execution_count": 14,
   "id": "b4574a09",
   "metadata": {
    "ExecuteTime": {
     "end_time": "2022-04-21T12:31:31.532703Z",
     "start_time": "2022-04-21T12:31:31.388319Z"
    }
   },
   "outputs": [
    {
     "data": {
      "text/plain": [
       "4"
      ]
     },
     "execution_count": 14,
     "metadata": {},
     "output_type": "execute_result"
    }
   ],
   "source": [
    "sentiment_score(df['reviews'].iloc[1])"
   ]
  },
  {
   "cell_type": "code",
   "execution_count": 16,
   "id": "0450ac73",
   "metadata": {
    "ExecuteTime": {
     "end_time": "2022-04-21T12:36:26.549146Z",
     "start_time": "2022-04-21T12:35:31.374200Z"
    }
   },
   "outputs": [
    {
     "ename": "TypeError",
     "evalue": "'float' object is not subscriptable",
     "output_type": "error",
     "traceback": [
      "\u001b[1;31m---------------------------------------------------------------------------\u001b[0m",
      "\u001b[1;31mTypeError\u001b[0m                                 Traceback (most recent call last)",
      "\u001b[1;32m~\\AppData\\Local\\Temp/ipykernel_10140/2740323574.py\u001b[0m in \u001b[0;36m<module>\u001b[1;34m\u001b[0m\n\u001b[1;32m----> 1\u001b[1;33m \u001b[0mdf\u001b[0m\u001b[1;33m[\u001b[0m\u001b[1;34m'sentiment'\u001b[0m\u001b[1;33m]\u001b[0m \u001b[1;33m=\u001b[0m \u001b[0mdf\u001b[0m\u001b[1;33m[\u001b[0m\u001b[1;34m'reviews'\u001b[0m\u001b[1;33m]\u001b[0m\u001b[1;33m.\u001b[0m\u001b[0mapply\u001b[0m\u001b[1;33m(\u001b[0m\u001b[1;32mlambda\u001b[0m \u001b[0mx\u001b[0m\u001b[1;33m:\u001b[0m \u001b[0msentiment_score\u001b[0m\u001b[1;33m(\u001b[0m\u001b[0mx\u001b[0m\u001b[1;33m[\u001b[0m\u001b[1;33m:\u001b[0m\u001b[1;36m580\u001b[0m\u001b[1;33m]\u001b[0m\u001b[1;33m)\u001b[0m\u001b[1;33m)\u001b[0m\u001b[1;33m\u001b[0m\u001b[1;33m\u001b[0m\u001b[0m\n\u001b[0m",
      "\u001b[1;32m~\\anaconda3\\lib\\site-packages\\pandas\\core\\series.py\u001b[0m in \u001b[0;36mapply\u001b[1;34m(self, func, convert_dtype, args, **kwargs)\u001b[0m\n\u001b[0;32m   4355\u001b[0m         \u001b[0mdtype\u001b[0m\u001b[1;33m:\u001b[0m \u001b[0mfloat64\u001b[0m\u001b[1;33m\u001b[0m\u001b[1;33m\u001b[0m\u001b[0m\n\u001b[0;32m   4356\u001b[0m         \"\"\"\n\u001b[1;32m-> 4357\u001b[1;33m         \u001b[1;32mreturn\u001b[0m \u001b[0mSeriesApply\u001b[0m\u001b[1;33m(\u001b[0m\u001b[0mself\u001b[0m\u001b[1;33m,\u001b[0m \u001b[0mfunc\u001b[0m\u001b[1;33m,\u001b[0m \u001b[0mconvert_dtype\u001b[0m\u001b[1;33m,\u001b[0m \u001b[0margs\u001b[0m\u001b[1;33m,\u001b[0m \u001b[0mkwargs\u001b[0m\u001b[1;33m)\u001b[0m\u001b[1;33m.\u001b[0m\u001b[0mapply\u001b[0m\u001b[1;33m(\u001b[0m\u001b[1;33m)\u001b[0m\u001b[1;33m\u001b[0m\u001b[1;33m\u001b[0m\u001b[0m\n\u001b[0m\u001b[0;32m   4358\u001b[0m \u001b[1;33m\u001b[0m\u001b[0m\n\u001b[0;32m   4359\u001b[0m     def _reduce(\n",
      "\u001b[1;32m~\\anaconda3\\lib\\site-packages\\pandas\\core\\apply.py\u001b[0m in \u001b[0;36mapply\u001b[1;34m(self)\u001b[0m\n\u001b[0;32m   1041\u001b[0m             \u001b[1;32mreturn\u001b[0m \u001b[0mself\u001b[0m\u001b[1;33m.\u001b[0m\u001b[0mapply_str\u001b[0m\u001b[1;33m(\u001b[0m\u001b[1;33m)\u001b[0m\u001b[1;33m\u001b[0m\u001b[1;33m\u001b[0m\u001b[0m\n\u001b[0;32m   1042\u001b[0m \u001b[1;33m\u001b[0m\u001b[0m\n\u001b[1;32m-> 1043\u001b[1;33m         \u001b[1;32mreturn\u001b[0m \u001b[0mself\u001b[0m\u001b[1;33m.\u001b[0m\u001b[0mapply_standard\u001b[0m\u001b[1;33m(\u001b[0m\u001b[1;33m)\u001b[0m\u001b[1;33m\u001b[0m\u001b[1;33m\u001b[0m\u001b[0m\n\u001b[0m\u001b[0;32m   1044\u001b[0m \u001b[1;33m\u001b[0m\u001b[0m\n\u001b[0;32m   1045\u001b[0m     \u001b[1;32mdef\u001b[0m \u001b[0magg\u001b[0m\u001b[1;33m(\u001b[0m\u001b[0mself\u001b[0m\u001b[1;33m)\u001b[0m\u001b[1;33m:\u001b[0m\u001b[1;33m\u001b[0m\u001b[1;33m\u001b[0m\u001b[0m\n",
      "\u001b[1;32m~\\anaconda3\\lib\\site-packages\\pandas\\core\\apply.py\u001b[0m in \u001b[0;36mapply_standard\u001b[1;34m(self)\u001b[0m\n\u001b[0;32m   1096\u001b[0m                 \u001b[1;31m# List[Union[Callable[..., Any], str]]]]]\"; expected\u001b[0m\u001b[1;33m\u001b[0m\u001b[1;33m\u001b[0m\u001b[0m\n\u001b[0;32m   1097\u001b[0m                 \u001b[1;31m# \"Callable[[Any], Any]\"\u001b[0m\u001b[1;33m\u001b[0m\u001b[1;33m\u001b[0m\u001b[0m\n\u001b[1;32m-> 1098\u001b[1;33m                 mapped = lib.map_infer(\n\u001b[0m\u001b[0;32m   1099\u001b[0m                     \u001b[0mvalues\u001b[0m\u001b[1;33m,\u001b[0m\u001b[1;33m\u001b[0m\u001b[1;33m\u001b[0m\u001b[0m\n\u001b[0;32m   1100\u001b[0m                     \u001b[0mf\u001b[0m\u001b[1;33m,\u001b[0m  \u001b[1;31m# type: ignore[arg-type]\u001b[0m\u001b[1;33m\u001b[0m\u001b[1;33m\u001b[0m\u001b[0m\n",
      "\u001b[1;32m~\\anaconda3\\lib\\site-packages\\pandas\\_libs\\lib.pyx\u001b[0m in \u001b[0;36mpandas._libs.lib.map_infer\u001b[1;34m()\u001b[0m\n",
      "\u001b[1;32m~\\AppData\\Local\\Temp/ipykernel_10140/2740323574.py\u001b[0m in \u001b[0;36m<lambda>\u001b[1;34m(x)\u001b[0m\n\u001b[1;32m----> 1\u001b[1;33m \u001b[0mdf\u001b[0m\u001b[1;33m[\u001b[0m\u001b[1;34m'sentiment'\u001b[0m\u001b[1;33m]\u001b[0m \u001b[1;33m=\u001b[0m \u001b[0mdf\u001b[0m\u001b[1;33m[\u001b[0m\u001b[1;34m'reviews'\u001b[0m\u001b[1;33m]\u001b[0m\u001b[1;33m.\u001b[0m\u001b[0mapply\u001b[0m\u001b[1;33m(\u001b[0m\u001b[1;32mlambda\u001b[0m \u001b[0mx\u001b[0m\u001b[1;33m:\u001b[0m \u001b[0msentiment_score\u001b[0m\u001b[1;33m(\u001b[0m\u001b[0mx\u001b[0m\u001b[1;33m[\u001b[0m\u001b[1;33m:\u001b[0m\u001b[1;36m580\u001b[0m\u001b[1;33m]\u001b[0m\u001b[1;33m)\u001b[0m\u001b[1;33m)\u001b[0m\u001b[1;33m\u001b[0m\u001b[1;33m\u001b[0m\u001b[0m\n\u001b[0m",
      "\u001b[1;31mTypeError\u001b[0m: 'float' object is not subscriptable"
     ]
    }
   ],
   "source": [
    "df['sentiment'] = df['reviews'].apply(lambda x: sentiment_score(x[:580]))"
   ]
  },
  {
   "cell_type": "code",
   "execution_count": null,
   "id": "cf6b3c50",
   "metadata": {
    "ExecuteTime": {
     "end_time": "2022-04-21T12:36:26.550893Z",
     "start_time": "2022-04-21T12:36:26.550893Z"
    },
    "scrolled": true
   },
   "outputs": [],
   "source": [
    "df['sentiment'] = df['reviews'].apply(lambda x: sentiment_score)"
   ]
  },
  {
   "cell_type": "code",
   "execution_count": null,
   "id": "5336a07b",
   "metadata": {
    "ExecuteTime": {
     "end_time": "2022-04-21T12:33:19.362388Z",
     "start_time": "2022-04-21T12:33:19.362388Z"
    }
   },
   "outputs": [],
   "source": [
    "df['polarity']= df['reviews'].apply(lambda x: "
   ]
  }
 ],
 "metadata": {
  "kernelspec": {
   "display_name": "Python 3 (ipykernel)",
   "language": "python",
   "name": "python3"
  },
  "language_info": {
   "codemirror_mode": {
    "name": "ipython",
    "version": 3
   },
   "file_extension": ".py",
   "mimetype": "text/x-python",
   "name": "python",
   "nbconvert_exporter": "python",
   "pygments_lexer": "ipython3",
   "version": "3.9.7"
  }
 },
 "nbformat": 4,
 "nbformat_minor": 5
}
